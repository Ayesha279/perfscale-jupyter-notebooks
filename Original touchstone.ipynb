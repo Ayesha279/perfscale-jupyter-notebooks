{
 "cells": [
  {
   "cell_type": "code",
   "execution_count": 13,
   "id": "c49c2739",
   "metadata": {},
   "outputs": [
    {
     "name": "stdout",
     "output_type": "stream",
     "text": [
      "\u001b[33mWARNING: Ignoring invalid distribution -lasticsearch (/opt/conda/lib/python3.9/site-packages)\u001b[0m\n",
      "\u001b[33mWARNING: Ignoring invalid distribution -lasticsearch (/opt/conda/lib/python3.9/site-packages)\u001b[0m\n",
      "Collecting git+git://github.com/Ayesha279/benchmark-comparison.git/tree/multiRecord_touchstone\n",
      "  Cloning git://github.com/Ayesha279/benchmark-comparison.git/tree/multiRecord_touchstone to /tmp/pip-req-build-c8tu8psi\n",
      "  Running command git clone -q git://github.com/Ayesha279/benchmark-comparison.git/tree/multiRecord_touchstone /tmp/pip-req-build-c8tu8psi\n",
      "  fatal: remote error:\n",
      "    Ayesha279/benchmark-comparison.git/tree/multiRecord_touchstone is not a valid repository name\n",
      "    Visit https://support.github.com/ for help\n",
      "\u001b[33mWARNING: Discarding git+git://github.com/Ayesha279/benchmark-comparison.git/tree/multiRecord_touchstone. Command errored out with exit status 128: git clone -q git://github.com/Ayesha279/benchmark-comparison.git/tree/multiRecord_touchstone /tmp/pip-req-build-c8tu8psi Check the logs for full command output.\u001b[0m\n",
      "\u001b[31mERROR: Command errored out with exit status 128: git clone -q git://github.com/Ayesha279/benchmark-comparison.git/tree/multiRecord_touchstone /tmp/pip-req-build-c8tu8psi Check the logs for full command output.\u001b[0m\n",
      "\u001b[33mWARNING: Ignoring invalid distribution -lasticsearch (/opt/conda/lib/python3.9/site-packages)\u001b[0m\n",
      "\u001b[33mWARNING: Ignoring invalid distribution -lasticsearch (/opt/conda/lib/python3.9/site-packages)\u001b[0m\n",
      "\u001b[33mWARNING: Ignoring invalid distribution -lasticsearch (/opt/conda/lib/python3.9/site-packages)\u001b[0m\n"
     ]
    }
   ],
   "source": [
    "!pip3 install git+git://github.com/Ayesha279/benchmark-comparison.git/tree/multiRecord_touchstone\n",
    "from touchstone import __version__\n",
    "from touchstone.benchmarks.generic import Benchmark\n",
    "from touchstone import decision_maker\n",
    "from touchstone import databases\n",
    "from touchstone.utils.lib import mergedicts, flatten_and_discard\n",
    "from touchstone.utils.lib import mergedicts, flatten_and_discard\n",
    "from tabulate import tabulate\n",
    "import pandas as pd\n",
    "import matplotlib.pyplot as plt\n",
    "\n",
    "compute_header = []\n",
    "uuid=\"aeed6306-b7e1-11eb-b313-e86a640406b2\"\n",
    "database=\"elasticsearch\"\n",
    "es_url=\"https://search-perfscale-dev-chmf5l4sh66lvxbnadi4bznl3a.us-west-2.es.amazonaws.com\"\n",
    "benchmark=Benchmark(open(\"config.json\"), database)\n",
    "main = {}\n",
    "\n",
    "for compute in benchmark.compute_map['ocm-requests'] :\n",
    "    conn=databases.grab(database,es_url)\n",
    "    result=conn.emit_compute_dict(uuid,\n",
    "                                  compute,\n",
    "                                  \"ocm-requests\",\n",
    "                                  \"uuid\")\n",
    "    mergedicts(result,main)"
   ]
  },
  {
   "cell_type": "code",
   "execution_count": 14,
   "id": "1070cad7",
   "metadata": {},
   "outputs": [
    {
     "name": "stdout",
     "output_type": "stream",
     "text": [
      "+------+----------+-----------+-----------------+--------------------------------------+--------------------+\n",
      "| code | bytes_in | bytes_out |       key       |                 uuid                 |       value        |\n",
      "+------+----------+-----------+-----------------+--------------------------------------+--------------------+\n",
      "|  0   |    0     |     0     | avg(latency_ns) | aeed6306-b7e1-11eb-b313-e86a640406b2 | 14116161772.285223 |\n",
      "| 500  |   151    |    332    | avg(latency_ns) | aeed6306-b7e1-11eb-b313-e86a640406b2 | 12010500769.847424 |\n",
      "| 500  |   151    |    331    | avg(latency_ns) | aeed6306-b7e1-11eb-b313-e86a640406b2 | 19069232539.04286  |\n",
      "| 500  |   151    |    330    | avg(latency_ns) | aeed6306-b7e1-11eb-b313-e86a640406b2 | 17562597556.934425 |\n",
      "| 500  |   151    |    329    | avg(latency_ns) | aeed6306-b7e1-11eb-b313-e86a640406b2 | 23259229767.333332 |\n",
      "| 500  |   355    |    263    | avg(latency_ns) | aeed6306-b7e1-11eb-b313-e86a640406b2 |  781199137.28125   |\n",
      "| 500  |   345    |    263    | avg(latency_ns) | aeed6306-b7e1-11eb-b313-e86a640406b2 |    1028092829.6    |\n",
      "| 500  |   352    |    263    | avg(latency_ns) | aeed6306-b7e1-11eb-b313-e86a640406b2 |    161201002.0     |\n",
      "| 500  |   362    |    263    | avg(latency_ns) | aeed6306-b7e1-11eb-b313-e86a640406b2 |    108053688.5     |\n",
      "| 400  |   340    |    329    | avg(latency_ns) | aeed6306-b7e1-11eb-b313-e86a640406b2 |    5515941232.8    |\n",
      "+------+----------+-----------+-----------------+--------------------------------------+--------------------+\n"
     ]
    }
   ],
   "source": [
    "for key in compute.get(\"filter\", []):\n",
    "        compute_header.append(key.split(\".keyword\")[0])\n",
    "for bucket in compute.get(\"buckets\", []):\n",
    "        compute_header.append(bucket.split(\".keyword\")[0])\n",
    "for extra_h in [\"key\", 'uuid', \"value\"]:\n",
    "        compute_header.append(extra_h)\n",
    "        row_list = []\n",
    "flatten_and_discard(main, compute_header, row_list)\n",
    "print(\n",
    "    tabulate(row_list, headers=compute_header, tablefmt=\"pretty\")\n",
    ")"
   ]
  },
  {
   "cell_type": "code",
   "execution_count": 11,
   "id": "9c42892d",
   "metadata": {},
   "outputs": [
    {
     "name": "stdout",
     "output_type": "stream",
     "text": [
      "    New_ID  code  Bytes_in  Bytes_out              KEY  \\\n",
      "0        1     0         0          0  max(latency_ns)   \n",
      "1        2     0         0          0  avg(latency_ns)   \n",
      "2        3   500       151        332  max(latency_ns)   \n",
      "3        4   500       151        332  avg(latency_ns)   \n",
      "4        5   500       151        331  max(latency_ns)   \n",
      "5        6   500       151        331  avg(latency_ns)   \n",
      "6        7   500       151        330  max(latency_ns)   \n",
      "7        8   500       151        330  avg(latency_ns)   \n",
      "8        9   500       151        329  max(latency_ns)   \n",
      "9       10   500       151        329  avg(latency_ns)   \n",
      "10      11   500       355        263  max(latency_ns)   \n",
      "11      12   500       355        263  avg(latency_ns)   \n",
      "12      13   500       345        263  max(latency_ns)   \n",
      "13      14   500       345        263  avg(latency_ns)   \n",
      "14      15   500       352        263  max(latency_ns)   \n",
      "15      16   500       352        263  avg(latency_ns)   \n",
      "16      17   500       362        263  max(latency_ns)   \n",
      "17      18   500       362        263  avg(latency_ns)   \n",
      "18      19   400       340        329  max(latency_ns)   \n",
      "19      20   400       340        329  avg(latency_ns)   \n",
      "\n",
      "                                    UUID         VALUE  \n",
      "0   aeed6306-b7e1-11eb-b313-e86a640406b2  6.792391e+10  \n",
      "1   aeed6306-b7e1-11eb-b313-e86a640406b2  1.411616e+10  \n",
      "2   aeed6306-b7e1-11eb-b313-e86a640406b2  4.203881e+10  \n",
      "3   aeed6306-b7e1-11eb-b313-e86a640406b2  1.201050e+10  \n",
      "4   aeed6306-b7e1-11eb-b313-e86a640406b2  3.427732e+10  \n",
      "5   aeed6306-b7e1-11eb-b313-e86a640406b2  1.906923e+10  \n",
      "6   aeed6306-b7e1-11eb-b313-e86a640406b2  2.754055e+10  \n",
      "7   aeed6306-b7e1-11eb-b313-e86a640406b2  1.756260e+10  \n",
      "8   aeed6306-b7e1-11eb-b313-e86a640406b2  2.373002e+10  \n",
      "9   aeed6306-b7e1-11eb-b313-e86a640406b2  2.325923e+10  \n",
      "10  aeed6306-b7e1-11eb-b313-e86a640406b2  1.269146e+09  \n",
      "11  aeed6306-b7e1-11eb-b313-e86a640406b2  7.811991e+08  \n",
      "12  aeed6306-b7e1-11eb-b313-e86a640406b2  1.164397e+09  \n",
      "13  aeed6306-b7e1-11eb-b313-e86a640406b2  1.028093e+09  \n",
      "14  aeed6306-b7e1-11eb-b313-e86a640406b2  1.643987e+08  \n",
      "15  aeed6306-b7e1-11eb-b313-e86a640406b2  1.612010e+08  \n",
      "16  aeed6306-b7e1-11eb-b313-e86a640406b2  1.083408e+08  \n",
      "17  aeed6306-b7e1-11eb-b313-e86a640406b2  1.080537e+08  \n",
      "18  aeed6306-b7e1-11eb-b313-e86a640406b2  1.389996e+10  \n",
      "19  aeed6306-b7e1-11eb-b313-e86a640406b2  5.515941e+09  \n"
     ]
    }
   ],
   "source": [
    "df1 =pd.DataFrame.from_records(\n",
    "    [\n",
    "        (level1, level2, level3, level4, level5, level6, level7, level8, leaf)\n",
    "        for level1, level2_dict in result.items()\n",
    "        for level2, level3_dict in level2_dict.items()\n",
    "        for level3, level4_dict in level3_dict.items()\n",
    "        for level4, level5_dict in level4_dict.items()\n",
    "        for level5, level6_dict in level5_dict.items()\n",
    "        for level6, level7_dict in level6_dict.items()\n",
    "        for level7, level8_dict in level7_dict.items()\n",
    "        for level8, leaf in level8_dict.items()\n",
    "    ],\n",
    "    columns=['type1', 'code', 'type2', 'Bytes_in', 'type3','Bytes_out', 'KEY', 'UUID', 'VALUE']\n",
    ")\n",
    "df1 =df1.drop(columns=['type1', 'type2', 'type3'])\n",
    "df1.insert(0, 'New_ID', range(1, 1 + len(df1)))\n",
    "print(df1)"
   ]
  },
  {
   "cell_type": "code",
   "execution_count": 12,
   "id": "6ae19b2b",
   "metadata": {},
   "outputs": [
    {
     "data": {
      "image/png": "[encoded data removed]",
      "text/plain": [
       "<Figure size 720x432 with 2 Axes>"
      ]
     },
     "metadata": {
      "needs_background": "light"
     },
     "output_type": "display_data"
    }
   ],
   "source": [
    "fig, ax = plt.subplots(2, figsize=(10, 6))\n",
    "ax[0].scatter(x = df1['VALUE'], y = df1['Bytes_in'], c = df1['code'], cmap='Spectral')\n",
    "ax[0].set_xlabel(\"avrage latency\")\n",
    "ax[0].set_ylabel(\"Bytes_in\")\n",
    "\n",
    "ax[1].scatter(x = df1['VALUE'], y = df1['Bytes_out'], c = df1['code'], cmap='Spectral')\n",
    "ax[1].set_xlabel(\"avrage latency\")\n",
    "ax[1].set_ylabel(\"Bytes_out\")\n",
    "\n",
    "\n",
    "plt.show()"
   ]
  },
  {
   "cell_type": "code",
   "execution_count": null,
   "id": "3af743e0",
   "metadata": {},
   "outputs": [],
   "source": []
  }
 ],
 "metadata": {
  "kernelspec": {
   "display_name": "Python 3 (ipykernel)",
   "language": "python",
   "name": "python3"
  },
  "language_info": {
   "codemirror_mode": {
    "name": "ipython",
    "version": 3
   },
   "file_extension": ".py",
   "mimetype": "text/x-python",
   "name": "python",
   "nbconvert_exporter": "python",
   "pygments_lexer": "ipython3",
   "version": "3.9.5"
  }
 },
 "nbformat": 4,
 "nbformat_minor": 5
}
